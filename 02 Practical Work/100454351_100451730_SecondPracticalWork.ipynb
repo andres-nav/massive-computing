{
  "cells": [
    {
      "cell_type": "markdown",
      "metadata": {
        "id": "RgiFzR-TVFrA"
      },
      "source": [
        "# Second Practical work\n",
        "\n",
        "* Name Student 1: Andres Navarro Pedregal\n",
        "* NIA Student 1: 100451730\n",
        "* Name Student 2: Alejo Gonzalez Garcia\n",
        "* NIA Student 2: 100454351\n",
        "  \n",
        "This is second practical work skeleton.\n",
        "\n",
        "It is divided in 3 parts_\n",
        "\n",
        "1.   Python module load section: load all the needed modules\n",
        "2.   Google Drive access and mounting\n",
        "3.   Host load data\n",
        "4.   GPU load\n",
        "\n",
        "\n",
        "\n"
      ]
    },
    {
      "cell_type": "markdown",
      "metadata": {
        "id": "tfmxFIzPWszg"
      },
      "source": [
        "## Module load section\n",
        "We will install the pycuda module in the colaboratory environment, to combine python and CUDA in our code. Because pycuda is not available by default, this task can take a few minutes.\n",
        "\n",
        "As well we load numpy and matplotlib modules."
      ]
    },
    {
      "cell_type": "code",
      "execution_count": null,
      "metadata": {
        "id": "h5Q-ylEHHB2k"
      },
      "outputs": [],
      "source": [
        "#!pip install pycuda"
      ]
    },
    {
      "cell_type": "markdown",
      "metadata": {
        "id": "hl4AhbSbW19W"
      },
      "source": [
        "We import the Python modules which we will use in the notebook (numpy, pycuda and time module)"
      ]
    },
    {
      "cell_type": "code",
      "execution_count": null,
      "metadata": {
        "id": "TLEg2Y41HFB3"
      },
      "outputs": [],
      "source": [
        "import  numpy  as  np\n",
        "import  pycuda.autoinit\n",
        "from    pycuda.compiler import SourceModule\n",
        "import  pycuda.driver as  drv\n",
        "import  pycuda.gpuarray as  gpuarray\n",
        "from sys import getsizeof\n",
        "import time"
      ]
    },
    {
      "cell_type": "code",
      "execution_count": null,
      "metadata": {
        "id": "JfOtyml91WNb"
      },
      "outputs": [],
      "source": [
        "%matplotlib inline\n",
        "from PIL import Image\n",
        "import matplotlib.pyplot as plt\n",
        "import matplotlib.image as mpimg\n",
        "import cProfile"
      ]
    },
    {
      "cell_type": "markdown",
      "metadata": {
        "id": "CHsvF9qH2G_u"
      },
      "source": [
        "## Mount Google Drive and access grant\n",
        "This part could be used to access to your Google Drive Data, **ONLY IF YOU ARE USING GOOGLE COLABORATORY**. Otherwise leave commented out.\n",
        "\n",
        "For security and privacy reasons, this permission is temporally, and will be requested every time you restart the notebook.\n",
        "\n",
        "Your Google Drive will be mounted in the \"/content/drive\" folder. The first Folder will be \"My Drive\".\n",
        "\n",
        "You have to copy your images to a folder in the \"My Drive\" folder in your Google Drive.\n",
        "\n",
        "To check your available files, use the cell indicated as \"**List Files in Folder**\""
      ]
    },
    {
      "cell_type": "code",
      "execution_count": null,
      "metadata": {
        "colab": {
          "base_uri": "https://localhost:8080/"
        },
        "id": "ykYa7-u8zDzk",
        "outputId": "5d72eee3-855b-4af9-a1ad-2eba1bf76e78"
      },
      "outputs": [],
      "source": [
        "from os.path import join\n",
        "from google.colab import drive\n",
        "drive.mount(\"/content/gdrive\")\n"
      ]
    },
    {
      "cell_type": "code",
      "execution_count": null,
      "metadata": {
        "colab": {
          "base_uri": "https://localhost:8080/"
        },
        "id": "_0H6bRbmYAkY",
        "outputId": "7acdedae-57e3-40b8-abbb-8f2ab3c77146"
      },
      "outputs": [],
      "source": [
        "!ls /content/gdrive/MyDrive/Colab\\ Notebooks/Massive_Work2/images"
      ]
    },
    {
      "cell_type": "markdown",
      "metadata": {
        "id": "ZtdarelZfv7Y"
      },
      "source": [
        "## IMAGES DEFINITION"
      ]
    },
    {
      "cell_type": "markdown",
      "metadata": {
        "id": "TENGgnHWYAkY"
      },
      "source": [
        "The follow MYDRIVE variable will be used to address where are stored the images files.\n",
        "\n",
        "Please, change it to your correct location.\n",
        "\n",
        "All the images should be refered to this directory."
      ]
    },
    {
      "cell_type": "code",
      "execution_count": null,
      "metadata": {
        "id": "IEkj24AFzdqw"
      },
      "outputs": [],
      "source": [
        "MYDRIVE=\"/content/gdrive/MyDrive/Colab Notebooks/Massive_Work2/images\""
      ]
    },
    {
      "cell_type": "markdown",
      "metadata": {
        "id": "hQ9NrNYXf1Rg"
      },
      "source": [
        "We define a variable IMAGE which is constructed joining the \"MYDRIVE\" varible plus the final path to your image."
      ]
    },
    {
      "cell_type": "code",
      "execution_count": null,
      "metadata": {
        "id": "2TAhlCjS0YPw"
      },
      "outputs": [],
      "source": [
        "images = [\"chess.jpg\", \"cloudsonjupi.jpg\", \"digits.jpg\", \"fence.jpg\", \"hand-x-ray.jpg\"]\n",
        "IMAGE=join(MYDRIVE,images[2])"
      ]
    },
    {
      "cell_type": "code",
      "execution_count": null,
      "metadata": {
        "colab": {
          "base_uri": "https://localhost:8080/"
        },
        "id": "xVa1h0wr0fDJ",
        "outputId": "fbba41c6-e7f9-4422-cc82-1d3e289a11f8"
      },
      "outputs": [],
      "source": [
        "print(\"Image to load: {0}\".format(IMAGE))"
      ]
    },
    {
      "cell_type": "markdown",
      "metadata": {
        "id": "otUSnNLOgilw"
      },
      "source": [
        "Loads an image in a numpy variable, and show."
      ]
    },
    {
      "cell_type": "code",
      "execution_count": null,
      "metadata": {
        "colab": {
          "base_uri": "https://localhost:8080/",
          "height": 452
        },
        "id": "K5MbuRm_1hdQ",
        "outputId": "85bc178f-b7c8-487c-cbfb-a843d2072a2e"
      },
      "outputs": [],
      "source": [
        "image=np.array(Image.open(IMAGE))\n",
        "plt.figure()\n",
        "plt.imshow(image)"
      ]
    },
    {
      "cell_type": "markdown",
      "metadata": {
        "id": "PySBj_IFYAkb"
      },
      "source": [
        "## FILTERS DEFINITION"
      ]
    },
    {
      "cell_type": "markdown",
      "metadata": {
        "id": "fV8ZVagpiI97"
      },
      "source": [
        "Here we defines our sample filter masks."
      ]
    },
    {
      "cell_type": "code",
      "execution_count": null,
      "metadata": {
        "id": "eWzJi8niPpuQ"
      },
      "outputs": [],
      "source": [
        "filter1=np.array([\n",
        "    [0,0,0,0,0],\n",
        "    [0,0,0,0,0],\n",
        "    [0,0,1,0,0],\n",
        "    [0,0,0,0,0],\n",
        "    [0,0,0,0,0]\n",
        "])\n",
        "filter2=np.array([[0.5, 0 , -0.5]])\n",
        "filter3=np.array([[0.5],[0],[-0.5]])\n",
        "\n",
        "filter4=np.array([\n",
        "    [1,2,1],\n",
        "    [0,0,0],\n",
        "    [-1,-2,-1]\n",
        "])\n",
        "filter5=np.array([\n",
        "    [0.00078633,0.00655965,0.01330373,0.00655965,0.00078633],\n",
        "    [0.00655965,0.05472157,0.11098164,0.05472157,0.00655965],\n",
        "    [0.01330373,0.11098164,0.22508352,0.11098164,0.01330373],\n",
        "    [0.00655965,0.05472157,0.11098164,0.05472157,0.00655965],\n",
        "    [0.00078633,0.00655965,0.01330373,0.00655965,0.00078633]\n",
        "])"
      ]
    },
    {
      "cell_type": "markdown",
      "metadata": {
        "id": "GhQwn2EMXDEY"
      },
      "source": [
        "## FILTER KERNEL\n",
        "\n",
        "Here you have to define your image_filter GPU kernel."
      ]
    },
    {
      "cell_type": "code",
      "execution_count": null,
      "metadata": {
        "id": "PY6Tlr-DHWU6"
      },
      "outputs": [],
      "source": [
        "kernel  =  \"\"\"\n",
        "__global__ void image_filter( float * src_image,          //Source GPU array floating point 32 bits,\n",
        "\t\t                          float * filter_mask,    //Filter Mask GPU array 2D floating point 32 bits\n",
        "                              float * dst_image,  //Target GPU array 2D floating point 32 bits,\n",
        "                              int NumRowsImg,         //Image Numrows,\n",
        "                              int NumColsImg,         //Int32 Image Numcolumns,\n",
        "                              int NumRowsFilter,       //Int32 Image NumRows filter mask,\n",
        "                              int NumColsFilter       //Int32 Image NumCols filter mask\n",
        "                              )\n",
        "{\n",
        "  //This instruction calculate in the offset in the memory data, based on the block identificator blockIdx.x\n",
        "  // YOU HAVE TO WRITE HERE YOUR FILTER KERNEL USING TILED MEMORY ALGORITHMS\n",
        "\n",
        "    //THIS CODE JUST COPY THE SOURCE IMAGE IN THE TARGET VECTOR\n",
        "    int idxY; // The thread is going to modify this ROW element of the matrix that we have filtered.\n",
        "    int idxX; // The thread is going to modify this COLUMN element of the matrix that we have filtered.\n",
        "    int vX;   // The thread is going to modify this VECTOR element of the matrix that we have filtered.\n",
        "\n",
        "\n",
        "    idxY = blockIdx.y*blockDim.y+threadIdx.y; //With this we calculate the row address in target matrix\n",
        "    idxX = blockIdx.x*blockDim.x+threadIdx.x; // With this we calculate the column address in target matrix\n",
        "\n",
        "  // blockIdx.x, and blockIdx.y are used to indicate the respective block index of the thread:\n",
        "  // x_coord and y_coord respectively.\n",
        "  // threadIdx.x and  threadIdx.y show the index of the thread:\n",
        "  // x_coord and y_coord respectively.\n",
        "  // This block and thread indeces are provided by the GPU.\n",
        "\n",
        "\n",
        "  // We are going to use a shared variable matrix as always, that is gonna be used by all the threads.\n",
        "  // Threads will only be required to access the shared_variable_filter in a local manner, which is faster than accessing the global one.\n",
        "\n",
        "    if ((idxX < NumRowsImg) && (idxY < NumColsImg))\n",
        "    {\n",
        "        vX = idxY * NumColsImg + idxX;\n",
        "    }\n",
        "    // Here we have calculated the position of the vector in the filtered matrix\n",
        "\n",
        "    // Here we are going to create the shared variable, src_image_for_threads, that is going to be accessed by\n",
        "    // all the threads and that as we explained above, will allow us to get the filtered image faster\n",
        "    // as each thread does not need to access the global memory.\n",
        "\n",
        "    // We are going to keep the src_image data so that each thread can collect it\n",
        "    // In order to ensure that the size of the block is proportional to the size of the image, it is necessary to\n",
        "    // have at least the size of the pixel in the center of the block. When calculating the filtered result, the\n",
        "    // part of the image that needs to be multiplied with the filter will be in the middle of the block.\n",
        "\n",
        "    // But we should notice that the pixels near the edge of the block need to be able to access rows and columns that are not\n",
        "    //  within the block's boundaries. To address this issue, the size of the tile_src_image must be increased.\n",
        "    //  This will require taking into account the number of lines and columns in the filter.\n",
        "    __shared__ float src_image_for_threads[%(block_size)s + %(filter_rows)s - 1][%(block_size)s + %(filter_cols)s - 1];\n",
        "\n",
        "    int border_x = NumColsFilter / 2; // Border of x\n",
        "    int border_y = NumRowsFilter / 2; // Border of y\n",
        "\n",
        "    //**************************************************************************************************************************//\n",
        "    // We are going to start filling up the matrix, part by part. First the inside part and then the outside part.\n",
        "    //**************************************************************************************************************************//\n",
        "\n",
        "    // Here we have declared the integer variables that are going to be used many times though the process\n",
        "    // of filling up the matrix, this allows to make our code easier to read.\n",
        "\n",
        "    int x_threshold = blockDim.x - border_x - 1, y_threshold = blockDim.y - border_y - 1;\n",
        "    // Threshold for x and y\n",
        "    int symmetric_Bx_Ty = blockDim.x - threadIdx.y - 1, symmetric_Bx_Tx = blockDim.x - threadIdx.x - 1;\n",
        "    // Symmetric element of Block i and Thread j\n",
        "    int blockIdx_y_plus_1 = blockIdx.y + 1, blockIdx_y_minus_1 = blockIdx.y - 1;\n",
        "    // Increment and Decrement of row and column of one unit in the id of the Block x\n",
        "    int blockIdx_x_plus_1 = blockIdx.x + 1, blockIdx_x_minus_1 = blockIdx.x - 1;\n",
        "    // Increment and Decrement of row and column of one unit in the id of the Block y\n",
        "    int row_index = threadIdx.y, col_index = threadIdx.x;\n",
        "\n",
        "    //**************************************************************************************************************************//\n",
        "\n",
        "    // 1.) FILL THE INSIDE PART OF THE MATRIX:\n",
        "\n",
        "    src_image_for_threads[border_y + threadIdx.y][border_x + threadIdx.x] = src_image[vX];\n",
        "    // Here we are filling each of the src_image_for_threads with the element in vX, the one\n",
        "    // that corresponds to that image and that it is inside the vX vector. Each thread will access it.\n",
        "\n",
        "    //**************************************************************************************************************************//\n",
        "\n",
        "    // 2.) FILL THE OUTSIDE PART OF THE MATRIX:\n",
        "\n",
        "    // 2.1) FILLING UP THE UPPER border of src_image_for_threads\n",
        "    if (threadIdx.y < border_y)\n",
        "    {\n",
        "     // Here we go to the block above this one and get the symmetrical element from that one in relation to the thread.\n",
        "     // Use blockIdx() * blockDim() to move to the previous one. Use symmetrical_Bx() * numCols() to find the beginning of the block.\n",
        "     // Use idxX to find the corresponding symmetric thread in the upper block in relation to its current position.\n",
        "        int upper_sym = idxX + (symmetric_Bx_Ty + blockIdx_y_minus_1 * blockDim.y) * NumColsImg;\n",
        "        int symmetric_position = blockIdx_y_minus_1 * blockDim.y + symmetric_Bx_Ty;\n",
        "        int border = (blockIdx.y * blockDim.y) * NumColsImg + idxX;\n",
        "\n",
        "     // Filling up the memory:\n",
        "        row_index = border_y - threadIdx.y - 1;\n",
        "        col_index = border_x + threadIdx.x;\n",
        "\n",
        "        if (symmetric_position < 0)\n",
        "        { // If position is negative, thread is on top of the source image\n",
        "            src_image_for_threads[row_index][col_index] = src_image[border];\n",
        "            // Here we are filling the top out border\n",
        "        }\n",
        "        else\n",
        "        {\n",
        "            src_image_for_threads[row_index][col_index] = src_image[upper_sym];\n",
        "            // Here we are using the upper value that is symmetric.\n",
        "        }\n",
        "    }\n",
        "\n",
        "\n",
        "    // 2.2)  FILLING UP THE LOWER BORDER of src_image_for_threads\n",
        "    if (threadIdx.y > y_threshold)\n",
        "    {// Here we go to the block below this one and get the symmetrical element from that one in relation to the thread.\n",
        "     // Use f blockIdx_y_plus_1 * blockDim.y to move to the next one.\n",
        "     // Use symmetric_Bx_Ty to find the beginning of the block.\n",
        "     // Use idxX to find the corresponding symmetric thread in the lower block in relation to its current position.\n",
        "        int lower_sym = (blockIdx_y_plus_1 * blockDim.y + symmetric_Bx_Ty) * NumColsImg + idxX;\n",
        "        int symmetric_position = blockIdx_y_plus_1 * blockDim.y + symmetric_Bx_Ty;\n",
        "        int border = (blockIdx.y * blockDim.y + (blockDim.y - 1)) * NumColsImg + idxX;\n",
        "\n",
        "        row_index = (blockDim.y - threadIdx.y) * 2 + threadIdx.y + border_y - 1;\n",
        "        col_index = border_x + threadIdx.x;\n",
        "\n",
        "        if (symmetric_position >= NumColsImg)\n",
        "        {// If position is larger than the columns, thread is on a lower border of the source image\n",
        "            src_image_for_threads[row_index][col_index] = src_image[border];\n",
        "            // Here we are filling the out border\n",
        "        }\n",
        "        else\n",
        "        {\n",
        "            src_image_for_threads[row_index][col_index] = src_image[lower_sym];\n",
        "            // Here we are using the lower value that is symmetric.\n",
        "        }\n",
        "    }\n",
        "\n",
        "    // 2.3) FILLING UP THE LEFT BORDER of src_image_for_threads\n",
        "    if (threadIdx.x < border_x)\n",
        "    {// Here we get the symmetrical element from that one in relation to the thread.\n",
        "     // Use blockIdx_x_minus_1 * blockDim.x to move to the previous one.\n",
        "     // Use symmetric_Bx_Tx  to find the end of the block.\n",
        "        int sym_left = idxY * NumColsImg + blockIdx_x_minus_1 * blockDim.x + symmetric_Bx_Tx;\n",
        "        int symmetric_position = sym_left - idxY * NumColsImg;\n",
        "        int border = idxY * NumColsImg;\n",
        "\n",
        "        row_index = border_y + threadIdx.y;\n",
        "        col_index = border_x - threadIdx.x - 1;\n",
        "\n",
        "        if (symmetric_position < 0)\n",
        "        {// If position is larger negative, thread is on a lower border of the source image\n",
        "            src_image_for_threads[row_index][col_index] = src_image[border];\n",
        "        }\n",
        "        else\n",
        "        {\n",
        "            src_image_for_threads[row_index][col_index] = src_image[sym_left];\n",
        "             // Here we are using the value that is symmetric.\n",
        "        }\n",
        "    }\n",
        "\n",
        "    // 2.4) FILLING UP THE RIGHT BORDER of src_image_for_threads\n",
        "    if (threadIdx.x > x_threshold)\n",
        "    {// Here we get the symmetrical element from that one in relation to the thread.\n",
        "     // UseblockIdx_x_minus_1 * blockDim.x to move to the next one.\n",
        "     // Use symmetric_Bx_Tx  to find the end of the block.\n",
        "     // idxY * NumColsImg gives us where the block starts.\n",
        "\n",
        "        int sym_right = idxY * NumColsImg + blockIdx_x_plus_1 * blockDim.x + symmetric_Bx_Tx;\n",
        "        int symmetric_position = sym_right - idxY * NumColsImg;\n",
        "        int border = idxY * NumColsImg + NumColsImg - 1;\n",
        "\n",
        "        row_index = border_y + threadIdx.y;\n",
        "        col_index = (blockDim.x - threadIdx.x) * 2 + threadIdx.x + border_x - 1;\n",
        "\n",
        "        if (symmetric_position >= NumColsImg)\n",
        "        {// If position is larger than the columns, thread is on a border of the source image\n",
        "            src_image_for_threads[row_index][col_index] = src_image[border];\n",
        "        }\n",
        "        else\n",
        "        {\n",
        "            src_image_for_threads[row_index][col_index] = src_image[sym_right];\n",
        "            // Here we are using the rigth value, that is symmetric.\n",
        "\n",
        "        }\n",
        "    }\n",
        "\n",
        "    //**************************************************************************************************************************//\n",
        "\n",
        "    // 3. FILL THE CORNERS OF THE MATRIX:\n",
        "\n",
        "    // 3.1) FILLING UP THE LOWER LEFT CORNER of src_image_for_threads\n",
        "    if (threadIdx.x < border_x && threadIdx.y > y_threshold)\n",
        "    {\n",
        "        int lower_left_corner = (blockIdx_y_plus_1 * blockDim.y + symmetric_Bx_Ty) * NumColsImg + blockIdx_x_minus_1 * blockDim.x + (blockDim.x - threadIdx.x - 1);\n",
        "        // Here  blockIdx_y_plus_1*blockDim.y + symmetric_Bx_Ty)*NumColsImg is the next row\n",
        "        // blockIdx_x_minus_1*blockDim.x + (blockDim.x-threadIdx.x-1)\n",
        "        // is the symmetric value of the previous block in the next row of the thread.\n",
        "\n",
        "        int y_location = blockIdx_y_plus_1 * blockDim.y + symmetric_Bx_Ty;\n",
        "        int x_location = blockIdx_x_minus_1 * blockDim.x + symmetric_Bx_Tx;\n",
        "        int corner = (blockIdx.y * blockDim.y + (blockDim.y - 1)) * NumColsImg + blockIdx.x * blockDim.x;\n",
        "\n",
        "        row_index = blockDim.y - 1;\n",
        "        col_index = border_x - threadIdx.x - 1;\n",
        "\n",
        "        if (y_location >= NumColsImg || x_location < 0)\n",
        "        {// If position is larger than the columns, thread is on a left border of the source image\n",
        "            src_image_for_threads[row_index][col_index] = src_image[corner];\n",
        "        }\n",
        "        else\n",
        "        {\n",
        "            src_image_for_threads[row_index][col_index] = src_image[lower_left_corner];\n",
        "            // Here we are filling with the lower left value.\n",
        "        }\n",
        "    }\n",
        "\n",
        "    // 3.2) FILLING UP THE LOWER RIGHT CORNER of src_image_for_threads\n",
        "    if (threadIdx.x > (blockDim.x - border_x - 1) && threadIdx.y > y_threshold)\n",
        "    {\n",
        "        int lower_right_corner = (blockIdx_y_plus_1 * blockDim.y + symmetric_Bx_Ty) * NumColsImg + blockIdx_x_plus_1 * blockDim.x + (blockDim.x - threadIdx.x - 1);\n",
        "        // Here  blockIdx_y_plus_1*blockDim.y + symmetric_Bx_Ty)*NumColsImgis the next row\n",
        "        // blockIdx_x_plus_1*blockDim.x + (blockDim.x-threadIdx.x-1)\n",
        "        // is the symmetric value of the next block in the next row of the thread.\n",
        "\n",
        "        int y_location = blockIdx_y_plus_1 * blockDim.y + symmetric_Bx_Ty;\n",
        "        int x_location = blockIdx_x_plus_1 * blockDim.x + symmetric_Bx_Tx;\n",
        "        int corner = (blockIdx.y * blockDim.y) * NumColsImg + NumColsImg - 1;\n",
        "\n",
        "        row_index = (blockDim.y - 1) + border_y + (blockDim.y - threadIdx.y);\n",
        "        col_index = (blockDim.x - 1) + border_x + (blockDim.x - threadIdx.x);\n",
        "\n",
        "        if (y_location >= NumColsImg || x_location >= NumColsImg)\n",
        "        {// If position is larger than the columns, thread is on a right border of the source image\n",
        "            src_image_for_threads[row_index][col_index] = src_image[corner];\n",
        "        }\n",
        "        else\n",
        "        {\n",
        "            src_image_for_threads[row_index][col_index] = src_image[lower_right_corner];\n",
        "            // Here we are filling with the lower right value.\n",
        "\n",
        "        }\n",
        "    }\n",
        "\n",
        "    // 3.3)  FILLING UP UPPER LEFT CORNER of src_image_for_threads\n",
        "    if (threadIdx.x < border_x && threadIdx.y < border_y)\n",
        "    {\n",
        "        int up_left_corner = (blockIdx_y_minus_1 * blockDim.y + symmetric_Bx_Ty) * NumColsImg + blockIdx_x_minus_1 * blockDim.x + (blockDim.x - threadIdx.x - 1);\n",
        "        // Here  blockIdx_y_minus_1*blockDim.y + symmetric_Bx_Ty)*NumColsImg is the top row\n",
        "        // blockIdx_x_minus_1*blockDim.x + (blockDim.x-threadIdx.x-1)\n",
        "        // is the symmetric value of the previous block symmetric with respect to x.\n",
        "        int y_location = blockIdx_y_minus_1 * blockDim.y + symmetric_Bx_Ty;\n",
        "        int x_location = blockIdx_x_minus_1 * blockDim.x + symmetric_Bx_Tx;\n",
        "        int corner = (blockIdx.y * blockDim.y) * NumColsImg + blockIdx.x * blockDim.x;\n",
        "\n",
        "        row_index = threadIdx.y;\n",
        "        col_index = threadIdx.x;\n",
        "\n",
        "        if (y_location < 0 || x_location < 0)\n",
        "        {// If position is larger than the columns, thread is pointing to a corner of the source image\n",
        "            src_image_for_threads[row_index][col_index] = src_image[corner];\n",
        "        }\n",
        "        else\n",
        "        {\n",
        "            src_image_for_threads[row_index][col_index] = src_image[up_left_corner];\n",
        "            // Here we are in a corner of the src_image so we fill it with the exact same value.\n",
        "        }\n",
        "    }\n",
        "\n",
        "    // 3.4) FILLING UP UPPER RIGHT CORNER of src_image_for_threads\n",
        "    if (threadIdx.x > x_threshold && threadIdx.y < border_y)\n",
        "    {\n",
        "        int up_rigth_corner = (blockIdx_y_minus_1 * blockDim.y + symmetric_Bx_Ty) * NumColsImg + blockIdx_x_plus_1 * blockDim.x + (blockDim.x - threadIdx.x - 1);\n",
        "        // Here  blockIdx_y_minus_1*blockDim.y + symmetric_Bx_Ty)*NumColsImg is the previous row\n",
        "        // blockIdx_x_plus_1*blockDim.x + (blockDim.x-threadIdx.x-1)\n",
        "        // is the symmetric value of the next block symmetric with respect to x.\n",
        "        int y_location = blockIdx_y_minus_1 * blockDim.y + symmetric_Bx_Ty;\n",
        "        int x_location = blockIdx_x_plus_1 * blockDim.x + symmetric_Bx_Tx;\n",
        "        int corner = (blockIdx.y * blockDim.y) * NumColsImg + NumColsImg - 1;\n",
        "\n",
        "        row_index = threadIdx.y;\n",
        "        col_index = (blockDim.x - 1) + border_x + (blockDim.x - threadIdx.x);\n",
        "\n",
        "        if (y_location < 0 || x_location >= NumColsImg)\n",
        "        {// If position is larger than the columns, thread is pointing to a corner of the source image\n",
        "            src_image_for_threads[row_index][col_index] = src_image[corner];\n",
        "            // Fill with corner value.\n",
        "        }\n",
        "        else\n",
        "        {\n",
        "            src_image_for_threads[row_index][col_index] = src_image[up_rigth_corner];\n",
        "            // Here we fill with the up_rigth_corner value.\n",
        "        }\n",
        "    }\n",
        "\n",
        "    //**************************************************************************************************************************//\n",
        "\n",
        "\n",
        "    // Now we are going to create the shared_variable_filter again, with size the one of the filter and that will be also\n",
        "    // access by all the threads with correct positions. They will copy down here the values from the global variable.\n",
        "    __shared__ float shared_variable_filter[%(filter_rows)s][%(filter_cols)s];\n",
        "\n",
        "    if ((threadIdx.x < NumColsFilter) && (threadIdx.y < NumRowsFilter))\n",
        "    {\n",
        "        int vector_filter_mask = threadIdx.x + threadIdx.y * NumColsFilter;\n",
        "        // For each column and row we create this vector_filter_mask\n",
        "\n",
        "        shared_variable_filter[threadIdx.y][threadIdx.x] = filter_mask[vector_filter_mask];\n",
        "    }\n",
        "\n",
        "    //**************************************************************************************************************************//\n",
        "\n",
        "    __syncthreads(); // Stop until all the threads to have finished filling the memory\n",
        "\n",
        "    //**************************************************************************************************************************//\n",
        "\n",
        "    double cummulated_sum = 0;\n",
        "    // Here we are going through the rows and columns of the filter:\n",
        "    for (int row = 0; row < NumRowsFilter; row++)\n",
        "    {\n",
        "        for (int col = 0; col < NumColsFilter; col++)\n",
        "        {\n",
        "            cummulated_sum += shared_variable_filter[row][col] * src_image_for_threads[row + threadIdx.y][col + threadIdx.x];\n",
        "        // cummulated_sum stores the total cummulated sum of the elements with respect to the filter\n",
        "        }\n",
        "    }\n",
        "\n",
        "    // Finally we must be sure that the position is correct:\n",
        "    if ((threadIdx.y < NumRowsImg) && (threadIdx.x < NumColsImg))\n",
        "    {\n",
        "        dst_image[vX] = cummulated_sum;\n",
        "    }\n",
        "    // When the position is correct, we can keep in this vector the element filtered\n",
        "}\n",
        "\n",
        "\"\"\""
      ]
    },
    {
      "cell_type": "markdown",
      "metadata": {
        "id": "ovzzmuXBXYFH"
      },
      "source": [
        "And import the kernel definition to python"
      ]
    },
    {
      "cell_type": "markdown",
      "metadata": {},
      "source": [
        "Notice we are doing this import later!"
      ]
    },
    {
      "cell_type": "markdown",
      "metadata": {
        "id": "N8y0LIU2hOd0"
      },
      "source": [
        "## SETUP EXPERIMENT"
      ]
    },
    {
      "cell_type": "markdown",
      "metadata": {
        "id": "N6NmxsN7X-02"
      },
      "source": [
        "Recover the image shape, and select the two first items (rows and columns)."
      ]
    },
    {
      "cell_type": "code",
      "execution_count": null,
      "metadata": {
        "id": "-9aWxHFFHxzT"
      },
      "outputs": [],
      "source": [
        "image_shape=image.shape[0:2]"
      ]
    },
    {
      "cell_type": "markdown",
      "metadata": {
        "id": "Txj67lrFYESV"
      },
      "source": [
        "Set block size and grid size."
      ]
    },
    {
      "cell_type": "code",
      "execution_count": null,
      "metadata": {
        "id": "sayAB5iQISs8"
      },
      "outputs": [],
      "source": [
        "block_s=16\n",
        "block_size=(block_s,block_s,1)\n",
        "grid_size=(int(np.ceil(image_shape[1]/block_s)),int(np.ceil(image_shape[0]/block_s)))"
      ]
    },
    {
      "cell_type": "markdown",
      "metadata": {
        "id": "4whAEkzPhvOC"
      },
      "source": [
        "Allocates the target image memory."
      ]
    },
    {
      "cell_type": "code",
      "execution_count": null,
      "metadata": {
        "id": "WnHTEzQXIw66"
      },
      "outputs": [],
      "source": [
        "result_image=np.zeros(image.shape,dtype=np.uint8)"
      ]
    },
    {
      "cell_type": "code",
      "execution_count": null,
      "metadata": {
        "id": "K8PcD3JeI-5K"
      },
      "outputs": [],
      "source": [
        "depth = image.shape[2]"
      ]
    },
    {
      "cell_type": "markdown",
      "metadata": {
        "id": "ZKu-1Eo7iSgz"
      },
      "source": [
        "### Select the filter mask, and upload to the GPU device."
      ]
    },
    {
      "cell_type": "code",
      "execution_count": null,
      "metadata": {
        "id": "rxIm7BzdN8az"
      },
      "outputs": [],
      "source": [
        "filter_mask=filter2.astype(np.float32) # Here we can choose any filter from the ones with have\n",
        "filter_mask_gpu=gpuarray.to_gpu(filter_mask)"
      ]
    },
    {
      "cell_type": "markdown",
      "metadata": {},
      "source": [
        "# Import the kernel definition to python"
      ]
    },
    {
      "cell_type": "code",
      "execution_count": null,
      "metadata": {
        "id": "7eq47dTjYAkf"
      },
      "outputs": [],
      "source": [
        "kernel_code = kernel % {\n",
        "    'filter_rows': filter_mask.shape[0],\n",
        "    'filter_cols': filter_mask.shape[1],\n",
        "    'block_size': block_s,\n",
        "}\n",
        "kernel = SourceModule(kernel_code) # Here we are compiling the kernel code"
      ]
    },
    {
      "cell_type": "code",
      "execution_count": null,
      "metadata": {
        "id": "3rJl7W0eYAkg"
      },
      "outputs": [],
      "source": [
        "image_filter = kernel.get_function('image_filter')"
      ]
    },
    {
      "cell_type": "markdown",
      "metadata": {
        "id": "IZ8gPCW0ijld"
      },
      "source": [
        "## Prepares the execution environment"
      ]
    },
    {
      "cell_type": "markdown",
      "metadata": {
        "id": "cdGCCI0PixrT"
      },
      "source": [
        "Allocate the temporal filtered memory layer, where will be store the filtered image."
      ]
    },
    {
      "cell_type": "code",
      "execution_count": null,
      "metadata": {
        "id": "7qK0LgeDWU27"
      },
      "outputs": [],
      "source": [
        "filtered_image_layer_gpu = gpuarray.zeros(image_shape,np.float32)"
      ]
    },
    {
      "cell_type": "markdown",
      "metadata": {
        "id": "-1oLCrqAYqED"
      },
      "source": [
        "Here defines the main block.\n",
        "Walk through the layers. Copying the selected layer to temporal image_layer, upload the layer to the GPU and invokes the image_filter kernel."
      ]
    },
    {
      "cell_type": "code",
      "execution_count": null,
      "metadata": {
        "colab": {
          "base_uri": "https://localhost:8080/"
        },
        "id": "lvEsPtYFIUl3",
        "outputId": "385968d4-164f-40e3-f045-e5d84230d912"
      },
      "outputs": [],
      "source": [
        "%%timeit -r 10 -n 10 -o\n",
        "for layer in range(depth):\n",
        "  image_layer = np.zeros(image_shape,dtype=np.float32) #Allocate the temporal image layer\n",
        "  image_layer=(image[:,:,layer]).astype(np.float32)    #Copy from the orignal image the selected layer into the temporal memory\n",
        "  image_layer_gpu=gpuarray.to_gpu(image_layer)         #Uploads the image layer to the GPU\n",
        "  filtered_image_layer_gpu.fill(0.0)                   #Fills with 0 the target memory in the GPU\n",
        "  image_filter(                                        #invokes the kernel\n",
        "          image_layer_gpu,\n",
        "          filter_mask_gpu,\n",
        "          filtered_image_layer_gpu,\n",
        "          np.int32(image_shape[0]),\n",
        "          np.int32(image_shape[1]),\n",
        "          np.int32(filter_mask.shape[0]),\n",
        "          np.int32(filter_mask.shape[1]),\n",
        "          block=block_size,\n",
        "          grid=grid_size\n",
        "        )\n",
        "  filtered_image_layer=filtered_image_layer_gpu.get() #Download from the GPU the filtered image\n",
        "  result_image[:,:,layer] = filtered_image_layer.astype(np.uint8) #Copy the filtered image to the final image store,\n",
        "                                                                  #casting the data type from double to uint8"
      ]
    },
    {
      "cell_type": "markdown",
      "metadata": {
        "id": "K8rWCkMEYAkn"
      },
      "source": [
        "*NOTE* The follow code fetch from the stack the exectution statistics produced by the magic metacommand %%timeit and stores it in a python variable."
      ]
    },
    {
      "cell_type": "code",
      "execution_count": null,
      "metadata": {
        "id": "NzMzhZZ9YAkn"
      },
      "outputs": [],
      "source": [
        "statistics=_ # This code is correct, as it says in the NOTE, it is storing the full statistics of the above code, that we are going to plot now:"
      ]
    },
    {
      "cell_type": "markdown",
      "metadata": {
        "id": "uKz2XKjBkvgR"
      },
      "source": [
        "# Show results\n"
      ]
    },
    {
      "cell_type": "code",
      "execution_count": null,
      "metadata": {
        "colab": {
          "base_uri": "https://localhost:8080/",
          "height": 452
        },
        "id": "QnoPI5BCS9_o",
        "outputId": "6132f45d-edc4-439d-ece4-9f6807c41cb5"
      },
      "outputs": [],
      "source": [
        "plt.figure()\n",
        "plt.imshow(result_image)"
      ]
    },
    {
      "cell_type": "code",
      "execution_count": null,
      "metadata": {
        "colab": {
          "base_uri": "https://localhost:8080/"
        },
        "id": "6DbfqushTXBR",
        "outputId": "49d66609-a508-41bb-cf2e-3597040dbfda"
      },
      "outputs": [],
      "source": [
        "print(\"Best execution time: {}\".format(statistics.best))\n",
        "print(\"Worst execution time: {}\".format(statistics.worst))\n",
        "print(\"Mean execution time: {mean} ({stdev} std dev)\".format(mean=statistics.average,stdev=statistics.stdev))"
      ]
    },
    {
      "cell_type": "markdown",
      "metadata": {
        "id": "tJY1XB2eYAko"
      },
      "source": [
        "# Alejo´s Personal Conclusions"
      ]
    }
  ],
  "metadata": {
    "accelerator": "GPU",
    "colab": {
      "provenance": []
    },
    "kernelspec": {
      "display_name": "Python 3 (ipykernel)",
      "language": "python",
      "name": "python3"
    },
    "language_info": {
      "codemirror_mode": {
        "name": "ipython",
        "version": 3
      },
      "file_extension": ".py",
      "mimetype": "text/x-python",
      "name": "python",
      "nbconvert_exporter": "python",
      "pygments_lexer": "ipython3",
      "version": "3.10.12"
    }
  },
  "nbformat": 4,
  "nbformat_minor": 0
}
