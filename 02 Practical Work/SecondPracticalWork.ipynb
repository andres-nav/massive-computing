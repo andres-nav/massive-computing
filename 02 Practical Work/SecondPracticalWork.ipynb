{
 "cells": [
  {
   "cell_type": "markdown",
   "metadata": {
    "id": "RgiFzR-TVFrA"
   },
   "source": [
    "# Second Practical work\n",
    "\n",
    "* Name Student 1: \n",
    "* NIA Student 1:\n",
    "* Name Student 2:\n",
    "* NIA Student 2:\n",
    "  \n",
    "This is second practical work skeleton.\n",
    "\n",
    "It is divided in 3 parts_\n",
    "\n",
    "1.   Python module load section: load all the needed modules\n",
    "2.   Google Drive access and mounting\n",
    "3.   Host load data\n",
    "4.   GPU load\n",
    "\n",
    "\n",
    "\n"
   ]
  },
  {
   "cell_type": "markdown",
   "metadata": {
    "id": "tfmxFIzPWszg"
   },
   "source": [
    "## Module load section\n",
    "We will install the pycuda module in the colaboratory environment, to combine python and CUDA in our code. Because pycuda is not available by default, this task can take a few minutes.\n",
    "\n",
    "As well we load numpy and matplotlib modules."
   ]
  },
  {
   "cell_type": "code",
   "execution_count": null,
   "metadata": {
    "id": "h5Q-ylEHHB2k"
   },
   "outputs": [],
   "source": [
    "!pip install pycuda"
   ]
  },
  {
   "cell_type": "markdown",
   "metadata": {
    "id": "hl4AhbSbW19W"
   },
   "source": [
    "We import the Python modules which we will use in the notebook (numpy, pycuda and time module) "
   ]
  },
  {
   "cell_type": "code",
   "execution_count": null,
   "metadata": {
    "id": "TLEg2Y41HFB3"
   },
   "outputs": [],
   "source": [
    "import  numpy  as  np\n",
    "import  pycuda.autoinit\n",
    "from    pycuda.compiler import SourceModule\n",
    "import  pycuda.driver as  drv\n",
    "import  pycuda.gpuarray as  gpuarray\n",
    "from sys import getsizeof\n",
    "import time"
   ]
  },
  {
   "cell_type": "code",
   "execution_count": null,
   "metadata": {
    "id": "JfOtyml91WNb"
   },
   "outputs": [],
   "source": [
    "%matplotlib inline\n",
    "from PIL import Image\n",
    "import matplotlib.pyplot as plt\n",
    "import matplotlib.image as mpimg\n",
    "import cProfile"
   ]
  },
  {
   "cell_type": "markdown",
   "metadata": {
    "id": "CHsvF9qH2G_u"
   },
   "source": [
    "## Mount Google Drive and access grant\n",
    "This part could be used to access to your Google Drive Data, **ONLY IF YOU ARE USING GOOGLE COLABORATORY**. Otherwise leave commented out. \n",
    "\n",
    "For security and privacy reasons, this permission is temporally, and will be requested every time you restart the notebook. \n",
    "\n",
    "Your Google Drive will be mounted in the \"/content/drive\" folder. The first Folder will be \"My Drive\".\n",
    "\n",
    "You have to copy your images to a folder in the \"My Drive\" folder in your Google Drive.\n",
    "\n",
    "To check your available files, use the cell indicated as \"**List Files in Folder**\""
   ]
  },
  {
   "cell_type": "code",
   "execution_count": null,
   "metadata": {
    "id": "ykYa7-u8zDzk"
   },
   "outputs": [],
   "source": [
    "from os.path import join\n",
    "# from google.colab import drive\n",
    "# drive.mount(\"/content/drive\")"
   ]
  },
  {
   "cell_type": "code",
   "execution_count": null,
   "metadata": {},
   "outputs": [],
   "source": [
    "# !ls /content/drive/My\\ Drive/images"
   ]
  },
  {
   "cell_type": "code",
   "execution_count": null,
   "metadata": {
    "id": "RN-zy4mQzN-J"
   },
   "outputs": [],
   "source": []
  },
  {
   "cell_type": "markdown",
   "metadata": {
    "id": "ZtdarelZfv7Y"
   },
   "source": [
    "## IMAGES DEFINITION"
   ]
  },
  {
   "cell_type": "markdown",
   "metadata": {},
   "source": [
    "The follow MYDRIVE variable will be used to address where are stored the images files.\n",
    "\n",
    "Please, change it to your correct location.\n",
    "\n",
    "All the images should be refered to this directory."
   ]
  },
  {
   "cell_type": "code",
   "execution_count": null,
   "metadata": {
    "id": "IEkj24AFzdqw"
   },
   "outputs": [],
   "source": [
    "MYDRIVE=\"./\""
   ]
  },
  {
   "cell_type": "markdown",
   "metadata": {
    "id": "hQ9NrNYXf1Rg"
   },
   "source": [
    "We define a variable IMAGE which is constructed joining the \"MYDRIVE\" varible plus the final path to your image."
   ]
  },
  {
   "cell_type": "code",
   "execution_count": null,
   "metadata": {
    "id": "2TAhlCjS0YPw"
   },
   "outputs": [],
   "source": [
    "images = [\"chess.jpg\", \"cloudsonjupi.jpg\", \"digits.jpg\", \"fence.jpg\", \"hand-x-ray.jpg\"] \n",
    "IMAGE=join(MYDRIVE,images[4])"
   ]
  },
  {
   "cell_type": "code",
   "execution_count": null,
   "metadata": {
    "id": "xVa1h0wr0fDJ"
   },
   "outputs": [],
   "source": [
    "print(\"Image to load: {0}\".format(IMAGE))"
   ]
  },
  {
   "cell_type": "markdown",
   "metadata": {
    "id": "otUSnNLOgilw"
   },
   "source": [
    "Loads an image in a numpy variable, and show."
   ]
  },
  {
   "cell_type": "code",
   "execution_count": null,
   "metadata": {
    "id": "K5MbuRm_1hdQ"
   },
   "outputs": [],
   "source": [
    "image=np.array(Image.open(IMAGE))\n",
    "plt.figure()\n",
    "plt.imshow(image)"
   ]
  },
  {
   "cell_type": "markdown",
   "metadata": {},
   "source": [
    "## FILTERS DEFINITION"
   ]
  },
  {
   "cell_type": "markdown",
   "metadata": {
    "id": "fV8ZVagpiI97"
   },
   "source": [
    "Here we defines our sample filter masks."
   ]
  },
  {
   "cell_type": "code",
   "execution_count": null,
   "metadata": {
    "id": "eWzJi8niPpuQ"
   },
   "outputs": [],
   "source": [
    "filter1=np.array([\n",
    "    [0,0,0,0,0],\n",
    "    [0,0,0,0,0],\n",
    "    [0,0,1,0,0],\n",
    "    [0,0,0,0,0],\n",
    "    [0,0,0,0,0]\n",
    "])\n",
    "filter2=np.array([[0.5, 0 , -0.5]])\n",
    "filter3=np.array([[0.5],[0],[-0.5]])\n",
    "\n",
    "filter4=np.array([\n",
    "    [1,2,1],\n",
    "    [0,0,0],\n",
    "    [-1,-2,-1]\n",
    "])\n",
    "filter5=np.array([\n",
    "    [0.00078633,0.00655965,0.01330373,0.00655965,0.00078633],\n",
    "    [0.00655965,0.05472157,0.11098164,0.05472157,0.00655965],\n",
    "    [0.01330373,0.11098164,0.22508352,0.11098164,0.01330373],\n",
    "    [0.00655965,0.05472157,0.11098164,0.05472157,0.00655965],\n",
    "    [0.00078633,0.00655965,0.01330373,0.00655965,0.00078633]\n",
    "])"
   ]
  },
  {
   "cell_type": "markdown",
   "metadata": {
    "id": "GhQwn2EMXDEY"
   },
   "source": [
    "## FILTER KERNEL\n",
    "\n",
    "Here you have to define your image_filter GPU kernel."
   ]
  },
  {
   "cell_type": "code",
   "execution_count": null,
   "metadata": {
    "id": "PY6Tlr-DHWU6"
   },
   "outputs": [],
   "source": [
    "kernel  =  \"\"\"\n",
    "__global__ void image_filter( float * image,          //Source GPU array floating point 32 bits,\n",
    "\t\t                          float * filter_mask,    //Filter Mask GPU array 2D floating point 32 bits\n",
    "                              float * filtered_image,  //Target GPU array 2D floating point 32 bits,\n",
    "                              int NumRowsImg,         //Image Numrows,\n",
    "                              int NumColsImg,         //Int32 Image Numcolumns,\n",
    "                              int NumRowsFilter,       //Int32 Image NumRows filter mask,\n",
    "                              int NumColsFilter       //Int32 Image NumCols filter mask\n",
    "                              ) \n",
    "{\n",
    "    // Initialization of variables --> information about the resulting filtered matrix\n",
    "    int idxY; // It indicates the row of the element in the filtered matrix that the thread will modify\n",
    "    int idxX; // It indicates the column of the element in the filtered matrix that the thread will modify\n",
    "    int vX; // It indicates the element (in vector form, not in a matrix) in the filtered matrix that the thread will compute\n",
    "    idxY = blockIdx.y*blockDim.y+threadIdx.y; //With this we calculate the row address in target matrix\n",
    "    idxX = blockIdx.x*blockDim.x+threadIdx.x; // With this we calculate the column address in target matrix\n",
    "        \n",
    "    // We need to obtain information regarding which thread and block we are in\n",
    "    // To obtain this information we do not need perform any calcualtion. The GPU internally knows this information\n",
    "\n",
    "    int blockX = blockIdx.x;  // It indicates the block index that the thread corresponds with (x coordinate)\n",
    "    int blockY = blockIdx.y; // It indicates the block index that the thread corresponds with (y coordinate)\n",
    "    int threadIdxX = threadIdx.x; // It indicates the current thread index (x coordinate)\n",
    "    int threadIdxY = threadIdx.y; // It indicates the current thread index (y coordinate)\n",
    "    // In order not to access the global memory to access the filter values, we will create a shared variable (matrix), accessible\n",
    "    // by all threads in the block. That matrix will be filled with the values of the global filter. This will accelerate the \n",
    "    // process of matrix multiplication, since the threads will not have to access to the global memory, but to the local shared one,\n",
    "    // which is faster\n",
    "\n",
    "    // We now compute the vector position in the filtered matrix corresponding with the idxY and idxX that indicated position in a matrix\n",
    "    if ((idxX<NumRowsImg) && (idxY<NumColsImg)){ // check the thread is in a valid position (inside the range of the size of the image)\n",
    "      vX=idxY*NumColsImg+idxX;\n",
    "    }\n",
    "\n",
    "    // Up to this point, we have --> initialized variables like block index, thread index,etc. And computed the element position that \n",
    "    // the thread is computing in the resulting filtered image.\n",
    "    // We will now create a shared variable, which is accessible by all threads in the block. Its main advantage with respect to the \n",
    "    // global memory is that its access is faster. In this new local variable we will include the part of the image that the threads \n",
    "    // of this block will use to compute their corresponding filtered element. \n",
    "\n",
    "    __shared__ float tile_image[ %(block_s)s + %(rows_of_filter)s - 1][%(block_s)s + %(cols_of_filter)s - 1];\n",
    "    // In tile_image matrix we will store the portion of the image needed by the threads. In order to know the part of the image needed:\n",
    "    //    - We need at least the image corresponding with the block size. When computing the filtered result of a pixel in the middle area,\n",
    "    //      the portion of the image (to multiply with the filter) needed will be in this region. However, those pixels closer to the border\n",
    "    //      will need to access rows/columns not inside the block area. How to solve this? Making the tile_image bigger. We will need to consider\n",
    "    //      as extra, the number of rows and columns of the filter. By doing this, pixels close to the border of the block will access the required\n",
    "    //      pixels (of other blocks).\n",
    "    // In order to understand better the tile_image, you need to image a matrix inside another matrix. The inner matrix is just the block dimensions.\n",
    "    // However, the outer matrix also contains NumRowsFilter / 2 in the right and left sides and NumColsFilter / 2 in the upper and lower borders.\n",
    "    // Now, the threads start filling the tile_image matrix by callling the image given as input. We will do this process in several steps. \n",
    "\n",
    "    // We create two new variables that indicate the borders\n",
    "    int half_filter_x = NumColsFilter / 2;\n",
    "    int half_filter_y = NumRowsFilter / 2;\n",
    "\n",
    "    // FILLING INNER MATRIX\n",
    "    // Each thread will fill the tile_image variable with its corresponding element in the image (Vx)\n",
    "    tile_image[half_filter_y + threadIdxY][half_filter_x + threadIdxX] = image[vX];\n",
    "    // Once each thread fills its element, the inner matrix will be filled.\n",
    "\n",
    "    // Now, the threads corresponding with pixels close to the border of the block will be in charge of filling\n",
    "    // the outter matrix of tile_image \n",
    "    // In order to understand better what we did, note that when we refer to \"close to the border of the block\"\n",
    "    // we mean NumRowsFilter / 2 or less, for the right and left borders, and NumColsFilter / 2 or less, for the upper and lower borders\n",
    "\n",
    "    // FILLING OUTTER MATRIX of tile_image. \n",
    "    // We will follow the next steps:\n",
    "    //    1. Fill RIGHT border of tile_image\n",
    "    //    2. Fill LEFT border of tile_image\n",
    "    //    3. Fill UPPER border of tile_image\n",
    "    //    4. Fill LOWER border of tile_image\n",
    "    //    5. Corners of tile_image\n",
    "\n",
    "    // 1. Fill RIGHT BORDER of tile_image\n",
    "    // Note that only those threads that are close to the border of the block will write this part of the tile memory\n",
    "    // In particular only those threads that are in the right border of the block\n",
    "    if (threadIdxX > (blockDim.x - half_filter_x - 1)){  \n",
    "\n",
    "      int symmetric_right = idxY * NumColsImg + (blockX + 1) * blockDim.x + (blockDim.x - threadIdxX - 1);\n",
    "      // idxY * NumColsImg locates the start of the block (in vector shape)\n",
    "      // (blockX - 1) * blockDim.x --> I go to the next block\n",
    "      // (blockDim.x - threadIdxX - 1) --> I go to the end of the block and substract the thread index \n",
    "      // I get --> symmetric element (of the next block) with respect to the respective element assigned to the thread\n",
    "\n",
    "      int rel_position = symmetric_right - idxY * NumColsImg; // Same as symmetric_right, but relative, not with respect other blocks\n",
    "      int border = idxY * NumColsImg + NumColsImg - 1; // End of the block \n",
    "\n",
    "      // Fill the tile memory\n",
    "      tile_image[half_filter_y + threadIdxY][(blockDim.x - threadIdxX) * 2 + threadIdxX + half_filter_x -1] = \n",
    "      (rel_position >= NumColsImg) ? image[border] : image[symmetric_right]; \n",
    "      // If the relative position is > Num columns, the thread is in a border of the image, and we fill the outter border with the same value. \n",
    "      // If not, we use the symmetric right value (provided by the next block).\n",
    "    }\n",
    "     \n",
    "\n",
    "    // 2. Fill LEFT BORDER of tile_image\n",
    "    // Note that only those threads that are close to the border of the block will write this part of the tile memory\n",
    "    // In particular only those threads that are in the left border of the block\n",
    "    if (threadIdxX < half_filter_x){  \n",
    "\n",
    "      int symmetric_left = idxY * NumColsImg + (blockX - 1) * blockDim.x + (blockDim.x - threadIdxX - 1);\n",
    "      // idxY * NumColsImg locates the start of the block (in vector shape)\n",
    "      // (blockX - 1) * blockDim.x --> I go to the previous block\n",
    "      // (blockDim.x - threadIdxX - 1) --> I go to the end of the block and substract the thread index \n",
    "      // I get --> symmetric element (of the previous block) with respect to the respective element assigned to the thread\n",
    "\n",
    "      int rel_position = symmetric_left - idxY * NumColsImg; // Same as symmetric_left, but relative, not with respect other blocks\n",
    "      int border = idxY * NumColsImg; // Start of the block \n",
    "\n",
    "      // Fill the tile memory\n",
    "      tile_image[half_filter_y + threadIdxY][half_filter_x - threadIdxX - 1] = (rel_position < 0) ? image[border] : image[symmetric_left]; \n",
    "      // If the relative position is < 0, the thread is in a border, and we fill the outter border with the same value. If not, we use the symmetric value.\n",
    "    }\n",
    "\n",
    "\n",
    "    // 3. Fill UPPER BORDER of tile_image\n",
    "    // Note that only those threads that are close to the border of the block will write this part of the tile memory\n",
    "    // In particular only those threads that are in the upper border of the block\n",
    "    if (threadIdxY < half_filter_y){ \n",
    "\n",
    "      int symmetric_up = ((blockY - 1) * blockDim.y + (blockDim.x - threadIdxY - 1)) * NumColsImg + idxX; // We go to the block that is \n",
    "      // located above this block (in the image), and obtain the symmetric element from that block with respect to the thread\n",
    "      // Make use of (blockY - 1) * blockDim.y  to go to the previous block\n",
    "      //  (blockDim.x - threadIdxY - 1)) * NumColsImg locates the start of the block\n",
    "      // idxX --> locate the respective symmetric thread position within the upper block wrt its current position\n",
    "      int rel_position = (blockY - 1) * blockDim.y + (blockDim.x - threadIdxY - 1); // Relative symmetric position\n",
    "      int border = (blockY * blockDim.y) * NumColsImg + idxX; // Upper border of the image --> we just keep the value of the thread \n",
    "\n",
    "      // Fill the tile memory\n",
    "      tile_image[half_filter_y - threadIdxY - 1][half_filter_x + threadIdxX] = \n",
    "      (rel_position < 0) ? image[border] : image[symmetric_up]; \n",
    "      // If the relative position is < 0, the thread is in a upper border of the image, and we fill the outter border with the same value. \n",
    "      // Otherwise, we use the symmetric upper value (provided by the upper block).\n",
    "    }\n",
    "\n",
    "\n",
    "    // 4. Fill LOWER BORDER of tile_image\n",
    "    // Note that only those threads that are close to the lower border of the block will write this part of the tile memory\n",
    "    // In particular only those threads that are in the lower border of the block\n",
    "    if (threadIdxY > (blockDim.y - half_filter_y - 1)){  // check whether the thread is in the lower border\n",
    "\n",
    "      int symmetric_down = ((blockY + 1) * blockDim.y + (blockDim.x - threadIdxY - 1)) * NumColsImg + idxX; // We go to the block that is \n",
    "      // located below this block (in the image), and obtain the symmetric element from that block with respect to the thread\n",
    "      // Make use of (blockY + 1) * blockDim.y to go to the next block\n",
    "      // (blockDim.x - threadIdxY - 1) * NumColsImg obtains the start of the lower block \n",
    "      // By adding idxX we obtain the symmetric element in the lower block wrt to the current one\n",
    "\n",
    "      int rel_position = (blockY + 1) * blockDim.y + (blockDim.x - threadIdxY - 1); // Obtains relative position \n",
    "      int border = (blockY * blockDim.y + (blockDim.y - 1)) * NumColsImg + idxX; // Lower border of the image --> we just keep the value of the thread \n",
    "      // Difference wrt section 3 --> we add in the first term (blockDim.y - 1) --> in order to go to the next row\n",
    "\n",
    "      // Fill the tile memory\n",
    "      tile_image[(blockDim.y - threadIdxY) * 2 + threadIdxY + half_filter_y - 1][half_filter_x + threadIdxX] = \n",
    "      (rel_position >= NumColsImg) ? image[border] : image[symmetric_down]; \n",
    "      // If the relative position is larger than the number of columns, the thread is in a lower border of the image, and we fill the outter border with the same value. \n",
    "      // If not, we use the symmetric lower value (provided by the next block).\n",
    "    }\n",
    "\n",
    "\n",
    "    // 5. FILLING THE CORNERS\n",
    "    // We will follow the next steps:\n",
    "    //    1. Fill UPPER LEFT corner of tile_image\n",
    "    //    2. Fill UPPER RIGHT corner of tile_image\n",
    "    //    3. Fill LOWER LEFT corner of tile_image\n",
    "    //    4. Fill LOWER RIGHT corner of tile_image\n",
    "\n",
    "    // 5.1. Fill UPPER LEFT corner of tile_image\n",
    "\n",
    "    if (threadIdxY < half_filter_y && threadIdxX < half_filter_x){ // Both x and y coordinates of the thread are located close to a corner\n",
    "       // if the thread is in the upper left corner, it needs to satisfy the condition\n",
    "       int corner_up_left = ((blockY - 1)*blockDim.y + (blockDim.x - threadIdxY - 1))*NumColsImg + (blockX - 1)*blockDim.x + (blockDim.x-threadIdxX-1);\n",
    "       // (blockY - 1)*blockDim.y + (blockDim.x - threadIdxY - 1))*NumColsImg identifies the upper row\n",
    "       // (blockX - 1)*blockDim.x + (blockDim.x-threadIdxX-1) identifies the first element of the upper row, that is, the symmetric wrt the x coordinate (of the previous block)\n",
    "       int rel_y_position = (blockY - 1)*blockDim.y + (blockDim.x - threadIdxY - 1); // Obtains relative position of the previous block wrt y coordinate\n",
    "       int rel_x_position = (blockX - 1)*blockDim.x + (blockDim.x - threadIdxX - 1); // Obtains relative position of the previous block wrt x coordinate\n",
    "\n",
    "       int corner = (blockY * blockDim.y) * NumColsImg + blockX * blockDim.x; //\n",
    "       tile_image[threadIdxY][threadIdxX] = (rel_y_position < 0 || rel_x_position < 0) ? image[corner] : image[corner_up_left];\n",
    "       // Since the tile_image is bigger than the block size, by inserting the element in [threadIdxY][threadIdxX], we are pointing to the corner \n",
    "       // If any of the relative positions is negative, it means that we are in a corner of the image (not just a tile corner), and we will fill the element with \n",
    "       // the same value \n",
    "    }\n",
    "\n",
    "\n",
    "    // 5.2. Fill UPPER RIGHT corner of tile_image\n",
    "    if (threadIdxY < half_filter_y && threadIdxX > (blockDim.x - half_filter_x - 1)){ \n",
    "       // y coordinate of the thread in the upper part of the block, while x coordinate of the thread in the right part\n",
    "\n",
    "       // if the thread is in the upper right corner, it needs to satisfy the condition\n",
    "       int corner_up_right = ((blockY - 1)*blockDim.y + (blockDim.x - threadIdxY - 1))*NumColsImg + (blockX + 1)*blockDim.x + (blockDim.x-threadIdxX-1);\n",
    "       // (blockY - 1)*blockDim.y + (blockDim.x - threadIdxY - 1))*NumColsImg identifies the previous row of the image\n",
    "       // (blockX + 1)*blockDim.x + (blockDim.x-threadIdxX-1) identifies the next block and obtains the symmetric element wrt the x coordinate (of the next block)\n",
    "       int rel_y_position = (blockY - 1)*blockDim.y + (blockDim.x - threadIdxY - 1); // Obtains relative position of the previous block wrt y coordinate\n",
    "       int rel_x_position = (blockX + 1)*blockDim.x + (blockDim.x - threadIdxX - 1); // Obtains relative position of the next block wrt x coordinate\n",
    "\n",
    "       int corner = (blockY * blockDim.y) * NumColsImg + NumColsImg - 1;\n",
    "       tile_image[threadIdxY][(blockDim.x - 1) + half_filter_x + (blockDim.x - threadIdxX)] = (rel_y_position < 0 || rel_x_position >= NumColsImg) ? image[corner] : image[corner_up_right];\n",
    "       // If we are located in the actual upper right corner of the image, we will fill the element with the corner value. However, if it is just a corner within the tile, with the corner_up_right value.\n",
    "    }\n",
    "\n",
    "\n",
    "    // 5.3. Fill LOWER LEFT corner of tile_image\n",
    "\n",
    "    if (threadIdxY > (blockDim.y - half_filter_y - 1) && threadIdxX < half_filter_x){\n",
    "       // if the thread is in the lower left corner, it needs to satisfy the condition\n",
    "       int corner_lower_left = ((blockY + 1)*blockDim.y + (blockDim.x - threadIdxY - 1))*NumColsImg + (blockX - 1)*blockDim.x + (blockDim.x-threadIdxX-1);\n",
    "       // (blockY + 1)*blockDim.y + (blockDim.x - threadIdxY - 1))*NumColsImg identifies the next row \n",
    "       // (blockX - 1)*blockDim.x + (blockDim.x-threadIdxX-1) obtains the symmetric value of the thread, of the previous block in the next row\n",
    "       int rel_y_position = (blockY + 1)*blockDim.y + (blockDim.x - threadIdxY - 1); // relative position of the y coordinate of the thread within the next row\n",
    "       int rel_x_position = (blockX - 1)*blockDim.x + (blockDim.x - threadIdxX-1); // relative position of the y coordinate of the thread within the previous block\n",
    "\n",
    "       int corner = (blockY * blockDim.y + (blockDim.y - 1)) * NumColsImg + blockX * blockDim.x;\n",
    "       tile_image[blockDim.y - 1][half_filter_x - threadIdxX - 1] = (rel_y_position >= NumColsImg || rel_x_position < 0) ? image[corner] : image[corner_lower_left];\n",
    "    }\n",
    "\n",
    "\n",
    "    // 5.4. Fill LOWER RIGHT corner of tile_image\n",
    "    if (threadIdxY > (blockDim.y - half_filter_y - 1) && threadIdxX > (blockDim.x - half_filter_x - 1)){\n",
    "       // if the thread is in the lower right corner, it needs to satisfy the condition\n",
    "       int corner_down_right = ((blockY + 1)*blockDim.y + (blockDim.x - threadIdxY - 1))*NumColsImg + (blockX + 1)*blockDim.x + (blockDim.x-threadIdxX-1);\n",
    "       // (blockY + 1)*blockDim.y + (blockDim.x - threadIdxY - 1))*NumColsImg identifies the next row of the tile\n",
    "       // (blockX + 1)*blockDim.x + (blockDim.x-threadIdxX-1) identifies the symmetric element wrt to the next block of the next row of the current thread\n",
    "       int rel_y_position = (blockY + 1)*blockDim.y + (blockDim.x - threadIdxY - 1);\n",
    "       int rel_x_position = (blockX + 1)*blockDim.x + (blockDim.x - threadIdxX - 1);\n",
    "\n",
    "       int corner = (blockY * blockDim.y) * NumColsImg + NumColsImg - 1;\n",
    "       tile_image[(blockDim.y - 1) + half_filter_y + (blockDim.y - threadIdxY)][(blockDim.x - 1) + half_filter_x + (blockDim.x - threadIdxX)] = (rel_y_position >= NumColsImg || rel_x_position >= NumColsImg) ? image[corner] : image[corner_down_right];\n",
    "    }\n",
    "\n",
    "\n",
    "    __shared__ float local_filter[%(rows_of_filter)s][%(cols_of_filter)s]; // Cration of the shared variable --> is a matrix of the same size as the filter\n",
    "    // those threads whose index coincides with a valid position in the filter, will access the global memory and copy the respective filter\n",
    "    // element in the shared filter\n",
    "    if ((threadIdxX < NumColsFilter) && (threadIdxY < NumRowsFilter)){\n",
    "      int elem_in_filter_mask =  threadIdxY * NumColsFilter + threadIdxX; // Given a row and a col in matrix form, compute the element in a \n",
    "      // vector (same reasoning as Vx)\n",
    "      local_filter[threadIdxY][threadIdxX] = filter_mask[elem_in_filter_mask];\n",
    "    }\n",
    "\n",
    "    // We wait until all threads have filled the tiled memory with the corresponding image elements\n",
    "    __syncthreads();\n",
    "\n",
    "    // Now that we have the tile memory with the part of the image needed for the threads of the block, and the tile memory for the filter,\n",
    "    // we can proceed to perform the filtering process\n",
    "\n",
    "    float accumulator = 0;\n",
    "    for (int row = 0; row < NumRowsFilter; row++){ // Iterate through the rows of the filter\n",
    "      for (int col = 0; col < NumColsFilter; col++){ // Iterate through the columns of the filter\n",
    "        accumulator += tile_image[row + threadIdx.y][col + threadIdx.x] * local_filter[row][col];\n",
    "        // The accumulator stores the cummulative sum of an element of the tile with its respective filter element\n",
    "      }\n",
    "    }\n",
    "\n",
    "    //Check whether the thread is in a valid position before modifying the filtered image\n",
    "    if ((threadIdxY < NumRowsImg) && (threadIdxX < NumColsImg)){\n",
    "      filtered_image[vX] = accumulator; \n",
    "      // If it is in a valid position, store the resulting filtered element in the filtered_image (vector) variable, in the previously computed vX position\n",
    "    }\n",
    "}\n",
    "\"\"\""
   ]
  },
  {
   "cell_type": "markdown",
   "metadata": {
    "id": "ovzzmuXBXYFH"
   },
   "source": [
    "And import the kernel definition to python"
   ]
  },
  {
   "cell_type": "markdown",
   "metadata": {
    "id": "N8y0LIU2hOd0"
   },
   "source": [
    "## SETUP EXPERIMENT"
   ]
  },
  {
   "cell_type": "markdown",
   "metadata": {
    "id": "N6NmxsN7X-02"
   },
   "source": [
    "Recover the image shape, and select the two first items (rows and columns)."
   ]
  },
  {
   "cell_type": "code",
   "execution_count": null,
   "metadata": {
    "id": "-9aWxHFFHxzT"
   },
   "outputs": [],
   "source": [
    "image_shape=image.shape[0:2]"
   ]
  },
  {
   "cell_type": "markdown",
   "metadata": {
    "id": "Txj67lrFYESV"
   },
   "source": [
    "Set block size and grid size."
   ]
  },
  {
   "cell_type": "code",
   "execution_count": null,
   "metadata": {
    "id": "sayAB5iQISs8"
   },
   "outputs": [],
   "source": [
    "block_s=16\n",
    "block_size=(block_s,block_s,1)\n",
    "grid_size=(int(np.ceil(image_shape[1]/block_s)),int(np.ceil(image_shape[0]/block_s)))"
   ]
  },
  {
   "cell_type": "markdown",
   "metadata": {
    "id": "4whAEkzPhvOC"
   },
   "source": [
    "Allocates the target image memory."
   ]
  },
  {
   "cell_type": "code",
   "execution_count": null,
   "metadata": {
    "id": "WnHTEzQXIw66"
   },
   "outputs": [],
   "source": [
    "result_image=np.zeros(image.shape,dtype=np.uint8)"
   ]
  },
  {
   "cell_type": "code",
   "execution_count": null,
   "metadata": {
    "id": "K8PcD3JeI-5K"
   },
   "outputs": [],
   "source": [
    "depth = image.shape[2]"
   ]
  },
  {
   "cell_type": "markdown",
   "metadata": {
    "id": "ZKu-1Eo7iSgz"
   },
   "source": [
    "### Select the filter mask, and upload to the GPU device."
   ]
  },
  {
   "cell_type": "code",
   "execution_count": null,
   "metadata": {
    "id": "rxIm7BzdN8az"
   },
   "outputs": [],
   "source": [
    "filter_mask=filter1.astype(np.float32)\n",
    "filter_mask_gpu=gpuarray.to_gpu(filter_mask)"
   ]
  },
  {
   "cell_type": "code",
   "execution_count": null,
   "metadata": {},
   "outputs": [],
   "source": [
    "kernel_code = kernel_code_template % { \n",
    "    'rows_of_filter': filter_mask.shape[0],\n",
    "    'cols_of_filter': filter_mask.shape[1],\n",
    "    'block_s': block_s,\n",
    "}\n",
    "# compile the kernel code\n",
    "kernel = SourceModule(kernel_code)"
   ]
  },
  {
   "cell_type": "code",
   "execution_count": null,
   "metadata": {},
   "outputs": [],
   "source": [
    "image_filter = kernel.get_function('image_filter')"
   ]
  },
  {
   "cell_type": "markdown",
   "metadata": {
    "id": "IZ8gPCW0ijld"
   },
   "source": [
    "## Prepares the execution environment "
   ]
  },
  {
   "cell_type": "markdown",
   "metadata": {
    "id": "cdGCCI0PixrT"
   },
   "source": [
    "Allocate the temporal filtered memory layer, where will be store the filtered image."
   ]
  },
  {
   "cell_type": "code",
   "execution_count": null,
   "metadata": {
    "id": "7qK0LgeDWU27"
   },
   "outputs": [],
   "source": [
    "filtered_image_layer_gpu = gpuarray.zeros(image_shape,np.float32)"
   ]
  },
  {
   "cell_type": "markdown",
   "metadata": {
    "id": "-1oLCrqAYqED"
   },
   "source": [
    "Here defines the main block.\n",
    "Walk through the layers. Copying the selected layer to temporal image_layer, upload the layer to the GPU and invokes the image_filter kernel."
   ]
  },
  {
   "cell_type": "code",
   "execution_count": null,
   "metadata": {
    "id": "lvEsPtYFIUl3"
   },
   "outputs": [],
   "source": [
    "%%timeit -r 10 -n 10 -o\n",
    "for layer in range(depth):\n",
    "  image_layer = np.zeros(image_shape,dtype=np.float32) #Allocate the temporal image layer\n",
    "  image_layer=(image[:,:,layer]).astype(np.float32)    #Copy from the orignal image the selected layer into the temporal memory\n",
    "  image_layer_gpu=gpuarray.to_gpu(image_layer)         #Uploads the image layer to the GPU\n",
    "  filtered_image_layer_gpu.fill(0.0)                   #Fills with 0 the target memory in the GPU\n",
    "  image_filter(                                        #invokes the kernel\n",
    "          image_layer_gpu,\n",
    "          filter_mask_gpu,\n",
    "          filtered_image_layer_gpu,\n",
    "          np.int32(image_shape[0]),\n",
    "          np.int32(image_shape[1]),\n",
    "          np.int32(filter_mask.shape[0]),\n",
    "          np.int32(filter_mask.shape[1]),\n",
    "          block=block_size,\n",
    "          grid=grid_size\n",
    "        )\n",
    "  filtered_image_layer=filtered_image_layer_gpu.get() #Download from the GPU the filtered image\n",
    "  result_image[:,:,layer] = filtered_image_layer.astype(np.uint8) #Copy the filtered image to the final image store, \n",
    "                                                                  #casting the data type from double to uint8"
   ]
  },
  {
   "cell_type": "markdown",
   "metadata": {},
   "source": [
    "*NOTE* The follow code fetch from the stack the exectution statistics produced by the magic metacommand %%timeit and stores it in a python variable."
   ]
  },
  {
   "cell_type": "code",
   "execution_count": null,
   "metadata": {},
   "outputs": [],
   "source": [
    "statistics=_"
   ]
  },
  {
   "cell_type": "markdown",
   "metadata": {
    "id": "uKz2XKjBkvgR"
   },
   "source": [
    "# Show results\n"
   ]
  },
  {
   "cell_type": "code",
   "execution_count": null,
   "metadata": {
    "id": "en0HMjtnk8uS"
   },
   "outputs": [],
   "source": []
  },
  {
   "cell_type": "code",
   "execution_count": null,
   "metadata": {
    "id": "QnoPI5BCS9_o"
   },
   "outputs": [],
   "source": [
    "plt.figure()\n",
    "plt.imshow(result_image)"
   ]
  },
  {
   "cell_type": "code",
   "execution_count": null,
   "metadata": {
    "id": "6DbfqushTXBR"
   },
   "outputs": [],
   "source": [
    "print(\"Best execution time: {}\".format(statistics.best))\n",
    "print(\"Worst execution time: {}\".format(statistics.worst))\n",
    "print(\"Mean execution time: {mean} ({stdev} std dev)\".format(mean=statistics.average,stdev=statistics.stdev))"
   ]
  },
  {
   "cell_type": "markdown",
   "metadata": {},
   "source": [
    "# CONCLUSIONS"
   ]
  }
 ],
 "metadata": {
  "accelerator": "GPU",
  "colab": {
   "collapsed_sections": [],
   "name": "SecondPracticalWork.ipynb",
   "provenance": []
  },
  "kernelspec": {
   "display_name": "Python 3 (ipykernel)",
   "language": "python",
   "name": "python3"
  },
  "language_info": {
   "codemirror_mode": {
    "name": "ipython",
    "version": 3
   },
   "file_extension": ".py",
   "mimetype": "text/x-python",
   "name": "python",
   "nbconvert_exporter": "python",
   "pygments_lexer": "ipython3",
   "version": "3.11.4"
  }
 },
 "nbformat": 4,
 "nbformat_minor": 4
}
